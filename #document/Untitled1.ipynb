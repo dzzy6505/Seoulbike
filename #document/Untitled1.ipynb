{
 "cells": [
  {
   "cell_type": "code",
   "execution_count": 3,
   "metadata": {},
   "outputs": [
    {
     "data": {
      "text/plain": [
       "101"
      ]
     },
     "execution_count": 3,
     "metadata": {},
     "output_type": "execute_result"
    }
   ],
   "source": [
    "import pandas as pd\n",
    "import matplotlib.pyplot as plt\n",
    "from matplotlib.ticker import PercentFormatter\n",
    "\n",
    "text = [] \n",
    "date = []\n",
    "from collections import Counter\n",
    "import csv\n",
    "with open('factors.csv', 'r',encoding ='utf-8-sig') as f:\n",
    "    reader = csv.DictReader(f)\n",
    "    for row in reader:\n",
    "        text.append(row['factors'])\n",
    "len(text)"
   ]
  },
  {
   "cell_type": "markdown",
   "metadata": {},
   "source": [
    "##### 기존의 'konlpy' 와 'customized_konply' 비교"
   ]
  },
  {
   "cell_type": "code",
   "execution_count": 4,
   "metadata": {},
   "outputs": [],
   "source": [
    "import warnings\n",
    "warnings.simplefilter(\"ignore\")\n",
    "from konlpy.tag import Twitter\n",
    "twitter = Twitter()"
   ]
  },
  {
   "cell_type": "code",
   "execution_count": 5,
   "metadata": {},
   "outputs": [],
   "source": [
    "#형태소 분석\n",
    "sentences_tag = []\n",
    "for sentence in text:\n",
    "    #post_data = postprocessor.pos(sentence)\n",
    "    \n",
    "    morph = twitter.pos(sentence)\n",
    "    sentences_tag.append(morph)"
   ]
  },
  {
   "cell_type": "code",
   "execution_count": 87,
   "metadata": {},
   "outputs": [],
   "source": [
    "# 형용사 'Adjective'만 추출\n",
    "adj_list = []\n",
    "for sentence1 in sentences_tag:\n",
    "    for word, tag in sentence1:\n",
    "        if tag in ['Adjective']:\n",
    "            adj_list.append(word)"
   ]
  },
  {
   "cell_type": "code",
   "execution_count": 88,
   "metadata": {},
   "outputs": [
    {
     "name": "stdout",
     "output_type": "stream",
     "text": [
      "[('입니다', 1789), ('있는', 1272), ('있습니다', 1101), ('있', 1091), ('없', 921), ('같습니다', 743), ('많은', 631), ('있는데', 520), ('좋겠습니다', 476), ('어떻게', 461), ('없습니다', 453), ('없는', 408), ('이런', 372), ('없네요', 354), ('같은', 340), ('같은데', 304), ('빠른', 294), ('있고', 280), ('있어', 280), ('안되고', 276), ('좋은', 273), ('많습니다', 273), ('아닌', 272), ('있으면', 270), ('없어', 259), ('없고', 250), ('같아요', 247), ('있게', 210), ('있을', 175), ('안되네요', 158), ('안됩니다', 156), ('많은데', 156), ('안되는', 156), ('있다고', 154), ('궁금합니다', 153), ('있는지', 150), ('좋을', 148), ('어떤', 139), ('많고', 130), ('있나요', 130)]\n"
     ]
    }
   ],
   "source": [
    "counts = Counter(adj_list)\n",
    "print(counts.most_common(40))"
   ]
  },
  {
   "cell_type": "code",
   "execution_count": 6,
   "metadata": {},
   "outputs": [
    {
     "name": "stdout",
     "output_type": "stream",
     "text": [
      "[('정보', 18), ('서비스', 16), ('요인', 15), ('신뢰', 13), ('품질', 13), ('제공', 9), ('이용', 9), ('경제성', 8), ('오프라인', 6), ('및', 6), ('위치', 6), ('보안', 6), ('개인', 6), ('사회', 6), ('편리', 6), ('상호작용', 6), ('가치', 5), ('정도', 5), ('위험', 5), ('경험', 5), ('사용', 5), ('접근성', 5), ('특성', 5), ('편의', 5), ('경제', 5), ('영향', 4), ('시간', 4), ('혜택', 4), ('온라인', 4), ('부정', 4), ('수', 4), ('소비자', 4), ('공유', 4), ('시스템', 4), ('용이', 4), ('고객', 4), ('스텝', 3), ('기반', 3), ('자신', 3), ('거래', 3), ('인식', 3), ('사용자', 3), ('만족도', 3), ('환경', 3), ('혁신', 3), ('안정', 3), ('유형', 3), ('확신', 3), ('공감', 3), ('오락', 3), ('실시간', 2), ('대한', 2), ('대처', 2), ('지각', 2), ('정확성', 2), ('상황', 2), ('연결', 2), ('웹루밍', 2), ('감정', 2), ('행동', 2), ('질', 2), ('의식', 2), ('지인', 2), ('저항', 2), ('의도', 2), ('과정', 2), ('후기', 2), ('할인', 2), ('유용성', 2), ('검색성', 2), ('사용성', 2), ('주관', 2), ('선호', 2), ('자기', 2), ('효능', 2), ('감', 2), ('개인정보', 2), ('보호', 2), ('빈도', 2), ('계', 2), ('효율', 2), ('자전거', 2), ('참여자', 2), ('환경보호', 2), ('즐거움', 2), ('스트레스', 2), ('해소', 2), ('위험성', 2), ('유희', 2), ('적합', 2), ('대응', 2), ('가격', 2), ('공간', 1), ('시설', 1), ('약속', 1), ('도', 1), ('정확도', 1), ('도움', 1), ('태도', 1), ('전문성', 1)]\n"
     ]
    }
   ],
   "source": [
    "#명사 추출\n",
    "noun_list = []\n",
    "for sentence11 in sentences_tag:\n",
    "    for word, tag in sentence11:\n",
    "        if tag in ['Noun']:\n",
    "            noun_list.append(word)\n",
    "counts = Counter(noun_list) # Counter Library 사용, 단어 빈도수 추출\n",
    "print(counts.most_common(100))\n",
    "tags = counts.most_common(70)"
   ]
  },
  {
   "cell_type": "code",
   "execution_count": 41,
   "metadata": {},
   "outputs": [
    {
     "data": {
      "text/plain": [
       "8618"
      ]
     },
     "execution_count": 41,
     "metadata": {},
     "output_type": "execute_result"
    }
   ],
   "source": [
    "import pandas as pd\n",
    "import matplotlib.pyplot as plt\n",
    "from matplotlib.ticker import PercentFormatter\n",
    "\n",
    "text = [] \n",
    "date = []\n",
    "from collections import Counter\n",
    "import csv\n",
    "with open('Seoulbike_complaint.csv', 'r',encoding ='utf-8-sig') as f:\n",
    "    reader = csv.DictReader(f)\n",
    "    for row in reader:\n",
    "        text.append(row['content'])\n",
    "len(text)"
   ]
  },
  {
   "cell_type": "markdown",
   "metadata": {},
   "source": [
    "###### 8618개의 게시물 수집 완료\n",
    "\n",
    "##### 크롤링 완료된 'Seoulbike_complatint.csv'을 불러윰. (크롤링 코드는 'pycharm'을 통해진행함)\n",
    "##### 이후 데이터 전처리 과정을 위해 'customized_konlpy'을 사용.\n",
    "##### 기존 'konlpy'에서 할 수 없었던 사전추가 기능과, 검색어 제외, 품사추가 기능 등을 사용가능 함."
   ]
  },
  {
   "cell_type": "code",
   "execution_count": 3,
   "metadata": {},
   "outputs": [],
   "source": [
    "with open('Seoulbike_complaint.csv', 'r',encoding ='utf-8-sig') as f:\n",
    "    reader = csv.DictReader(f)\n",
    "    c_text = [] \n",
    "    for row in reader:\n",
    "        c_text.append(row['content'])"
   ]
  },
  {
   "cell_type": "code",
   "execution_count": 32,
   "metadata": {},
   "outputs": [
    {
     "data": {
      "text/plain": [
       "['잠실나루역', '잠실역', '잠실새내역']"
      ]
     },
     "execution_count": 32,
     "metadata": {},
     "output_type": "execute_result"
    }
   ],
   "source": [
    "#서울시 지하철 이름 가져오기\n",
    "metro_name = []\n",
    "suffix = '역'\n",
    "with open('metro_name.csv', 'r',encoding ='utf-8-sig') as f:\n",
    "    reader = csv.DictReader(f)\n",
    "   \n",
    "    for row in reader:\n",
    "        prefix = row['name']\n",
    "        words = prefix + suffix\n",
    "        metro_name.append(words)\n",
    "metro_name[0:3]"
   ]
  },
  {
   "cell_type": "markdown",
   "metadata": {},
   "source": [
    "##### 사전에 단어 등록을 안 할시 위 3개의 단어를 모두 '잠실'로 인식함. 이를 막기위해 사전 단어추가를 다음과 같이 진행함."
   ]
  },
  {
   "cell_type": "markdown",
   "metadata": {},
   "source": [
    "\n",
    "##### 이후 파이썬 라이브러리 'konlpy'의 개선 버전인 'customized_konlpy'를 사용\n",
    "###### 출처: (\"https://github.com/lovit/customized_konlpy\")\n"
   ]
  },
  {
   "cell_type": "code",
   "execution_count": 38,
   "metadata": {},
   "outputs": [],
   "source": [
    "from ckonlpy.tag import Postprocessor #전처리 라이브러리\n",
    "from ckonlpy.tag import Twitter\n",
    "import warnings\n",
    "warnings.simplefilter(\"ignore\")\n",
    "\n",
    "ctwitter = Twitter()\n",
    "ctwitter.add_dictionary('해주시면','Verb')\n",
    "#ctwitter.add_dictionary(['타고','요청드립니다','부탁드립니다', '요청 드립니다','부탁 드립니다','해','주시면','해주시면'],'Verb')\n",
    "ctwitter.add_dictionary(['따릉이','자출',\n",
    "                        '자전거그램','럽스타그램',\n",
    "                        '인스타그램','daily','데일리',\n",
    "                        '대여소','연결거치','거치대','고객센터',\n",
    "                        '종합시장','다시','퇴근시간','대여시간',\n",
    "                        '출근시간','한시간','두시간','임시폐쇄',\n",
    "                         '서울시청',\n",
    "                        ], 'Noun')\n",
    "ctwitter.add_dictionary('까지', 'Josa')\n",
    "ctwitter.add_dictionary('레알', 'Adjective')\n",
    "#역명추가\n",
    "ctwitter.add_dictionary(metro_name,'Noun')\n",
    "ctwitter.add_dictionary(['타고','요청드립니다','부탁드립니다',\n",
    "                         '요청 드립니다','부탁 드립니다',],'Verb')\n",
    "\n",
    "#무의미한 형태소 및 단어 제거\n",
    "stopwords = {'까지','드립','번','수','것', '앞','해주','곳','떄','좀','어요','요','이','감사','이','그','고','제','쪽','더','안','후','시','거',\n",
    "'려고','적','저','데','등','역','중','해주시','내','면서','어서','안녕','때','어서','이나','도록','걸','건','기','부터','알','건가'}\n",
    "postprocessor = Postprocessor(ctwitter, stopwords = stopwords)\n"
   ]
  },
  {
   "cell_type": "markdown",
   "metadata": {},
   "source": [
    "##### 기존의 'konlpy' 와 'customized_konply' 비교"
   ]
  },
  {
   "cell_type": "code",
   "execution_count": 34,
   "metadata": {},
   "outputs": [],
   "source": [
    "import warnings\n",
    "warnings.simplefilter(\"ignore\")\n",
    "from konlpy.tag import Twitter\n",
    "twitter = Twitter()\n",
    "\n",
    "\n",
    "konply=twitter.pos('서울시청')\n",
    "c_konply = ctwitter.pos('서울시청')"
   ]
  },
  {
   "cell_type": "code",
   "execution_count": 35,
   "metadata": {},
   "outputs": [
    {
     "name": "stdout",
     "output_type": "stream",
     "text": [
      "[('서울', 'Noun'), ('시청', 'Noun')]\n"
     ]
    }
   ],
   "source": [
    "print(konply)"
   ]
  },
  {
   "cell_type": "code",
   "execution_count": 36,
   "metadata": {},
   "outputs": [
    {
     "name": "stdout",
     "output_type": "stream",
     "text": [
      "[('서울시청', 'Noun')]\n"
     ]
    }
   ],
   "source": [
    "print(c_konply)"
   ]
  },
  {
   "cell_type": "code",
   "execution_count": 40,
   "metadata": {},
   "outputs": [],
   "source": [
    "#형태소 분석\n",
    "sentences_tag = []\n",
    "for sentence in c_text:\n",
    "    #post_data = postprocessor.pos(sentence)\n",
    "    \n",
    "    morph = postprocessor.pos(sentence)\n",
    "    sentences_tag.append(morph)"
   ]
  },
  {
   "cell_type": "code",
   "execution_count": 87,
   "metadata": {},
   "outputs": [],
   "source": [
    "# 형용사 'Adjective'만 추출\n",
    "adj_list = []\n",
    "for sentence1 in sentences_tag:\n",
    "    for word, tag in sentence1:\n",
    "        if tag in ['Adjective']:\n",
    "            adj_list.append(word)"
   ]
  },
  {
   "cell_type": "code",
   "execution_count": 88,
   "metadata": {},
   "outputs": [
    {
     "name": "stdout",
     "output_type": "stream",
     "text": [
      "[('입니다', 1789), ('있는', 1272), ('있습니다', 1101), ('있', 1091), ('없', 921), ('같습니다', 743), ('많은', 631), ('있는데', 520), ('좋겠습니다', 476), ('어떻게', 461), ('없습니다', 453), ('없는', 408), ('이런', 372), ('없네요', 354), ('같은', 340), ('같은데', 304), ('빠른', 294), ('있고', 280), ('있어', 280), ('안되고', 276), ('좋은', 273), ('많습니다', 273), ('아닌', 272), ('있으면', 270), ('없어', 259), ('없고', 250), ('같아요', 247), ('있게', 210), ('있을', 175), ('안되네요', 158), ('안됩니다', 156), ('많은데', 156), ('안되는', 156), ('있다고', 154), ('궁금합니다', 153), ('있는지', 150), ('좋을', 148), ('어떤', 139), ('많고', 130), ('있나요', 130)]\n"
     ]
    }
   ],
   "source": [
    "counts = Counter(adj_list)\n",
    "print(counts.most_common(40))"
   ]
  },
  {
   "cell_type": "code",
   "execution_count": 53,
   "metadata": {},
   "outputs": [
    {
     "name": "stdout",
     "output_type": "stream",
     "text": [
      "[('자전거', 5858), ('따릉이', 5085), ('대여소', 4369), ('이용', 3995), ('설치', 3278), ('반납', 2967), ('대여', 2677), ('시간', 1587), ('사용', 1475), ('부탁', 1379), ('불편', 1207), ('앱', 1132), ('추가', 1055), ('결제', 1048), ('거치대', 1039), ('사람', 998), ('답변', 993), ('확인', 942), ('가능', 934), ('생각', 847), ('고장', 827), ('지도', 802), ('근처', 797), ('출구', 790), ('시민', 770), ('다른', 760), ('다시', 736), ('처리', 728), ('글', 714), ('경우', 708), ('위치', 672), ('아파트', 653), ('계속', 648), ('왜', 645), ('문제', 628), ('정기권', 622), ('장애', 619), ('주변', 617), ('전화', 589), ('타고', 588), ('번호', 584), ('분', 569), ('연결', 567), ('건의', 567), ('이용자', 563), ('못', 554), ('카드', 554), ('지역', 545), ('주시', 542), ('하나', 536), ('통신', 534), ('개선', 533), ('등록', 529), ('오늘', 525), ('요청', 519), ('환불', 509), ('신고', 501), ('거리', 498), ('이용권', 495), ('현재', 492), ('사거리', 489), ('안장', 488), ('다가', 481), ('공원', 475), ('언제', 470), ('오류', 468), ('서울시', 467), ('주민', 465), ('요금', 461), ('어플', 458), ('정도', 453), ('필요', 448), ('문의', 448), ('개', 434), ('바로', 427), ('방법', 425), ('전', 422), ('거나', 418), ('서울', 418), ('단지', 404), ('센터', 404), ('안내', 404), ('이상', 403), ('구매', 399), ('항상', 393), ('정말', 390), ('지금', 388), ('아침', 386), ('말', 383), ('문자', 381), ('및', 380), ('공지', 379), ('길', 378), ('의견', 373), ('버스', 371), ('때문', 371), ('자주', 370), ('상태', 368), ('가요', 367), ('검색', 365)]\n"
     ]
    }
   ],
   "source": [
    "#명사 추출\n",
    "noun_list = []\n",
    "for sentence11 in sentences_tag:\n",
    "    for word, tag in sentence11:\n",
    "        if tag in ['Noun']:\n",
    "            noun_list.append(word)\n",
    "counts = Counter(noun_list) # Counter Library 사용, 단어 빈도수 추출\n",
    "print(counts.most_common(100))\n",
    "tags = counts.most_common(70)"
   ]
  }
 ],
 "metadata": {
  "kernelspec": {
   "display_name": "Python 3",
   "language": "python",
   "name": "python3"
  },
  "language_info": {
   "codemirror_mode": {
    "name": "ipython",
    "version": 3
   },
   "file_extension": ".py",
   "mimetype": "text/x-python",
   "name": "python",
   "nbconvert_exporter": "python",
   "pygments_lexer": "ipython3",
   "version": "3.7.3"
  }
 },
 "nbformat": 4,
 "nbformat_minor": 2
}

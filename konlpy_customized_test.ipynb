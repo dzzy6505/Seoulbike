{
 "cells": [
  {
   "cell_type": "code",
   "execution_count": 6,
   "metadata": {},
   "outputs": [],
   "source": [
    "from ckonlpy.tag import Twitter\n",
    "\n",
    "twitter = Twitter()"
   ]
  },
  {
   "cell_type": "code",
   "execution_count": 7,
   "metadata": {},
   "outputs": [
    {
     "data": {
      "text/plain": [
       "[('우리', 'Noun'),\n",
       " ('아이오', 'Noun'),\n",
       " ('아', 'Josa'),\n",
       " ('이는', 'Verb'),\n",
       " ('이뻐요', 'Adjective')]"
      ]
     },
     "execution_count": 7,
     "metadata": {},
     "output_type": "execute_result"
    }
   ],
   "source": [
    "twitter.pos('우리아이오아이는 이뻐요')"
   ]
  },
  {
   "cell_type": "markdown",
   "metadata": {},
   "source": [
    "##### 기존의 kolnpy '아이오아이'가 알려진 단어가 아니었기 때문에 트위터 분석기에서 단어를 제대로 인식하지 못합니다.\n",
    "##### 단어추가함."
   ]
  },
  {
   "cell_type": "code",
   "execution_count": 13,
   "metadata": {},
   "outputs": [],
   "source": [
    "from ckonlpy.tag import Twitter\n",
    "\n",
    "twitter.add_dictionary('아이오아이', 'Noun')\n",
    "twitter.add_dictionary(['트와이스', 'tt','인스타그램'], 'Noun')\n",
    "twitter.add_dictionary('까지', 'Josa')\n"
   ]
  },
  {
   "cell_type": "code",
   "execution_count": 14,
   "metadata": {},
   "outputs": [
    {
     "data": {
      "text/plain": [
       "[('우리', 'Noun'), ('아이오아이', 'Noun'), ('는', 'Josa'), ('이뻐요', 'Adjective')]"
      ]
     },
     "execution_count": 14,
     "metadata": {},
     "output_type": "execute_result"
    }
   ],
   "source": [
    "twitter.pos('우리아이오아이는 이뻐요')"
   ]
  },
  {
   "cell_type": "code",
   "execution_count": 15,
   "metadata": {},
   "outputs": [
    {
     "data": {
      "text/plain": [
       "[('#', 'Punctuation'),\n",
       " ('일상', 'Noun'),\n",
       " ('#', 'Punctuation'),\n",
       " ('인스타그램', 'Noun'),\n",
       " ('#자출', 'Hashtag'),\n",
       " ('#', 'Punctuation'),\n",
       " ('운동', 'Noun'),\n",
       " ('스타', 'Noun'),\n",
       " ('그램', 'Noun'),\n",
       " ('#럽', 'Hashtag'),\n",
       " ('스타', 'Noun'),\n",
       " ('그램', 'Noun'),\n",
       " ('서울', 'Noun'),\n",
       " ('까지', 'Noun')]"
      ]
     },
     "execution_count": 15,
     "metadata": {},
     "output_type": "execute_result"
    }
   ],
   "source": [
    "twitter.pos('#일상#인스타그램#자출#운동스타그램#럽스타그램 서울까지')"
   ]
  },
  {
   "cell_type": "code",
   "execution_count": null,
   "metadata": {},
   "outputs": [],
   "source": []
  }
 ],
 "metadata": {
  "kernelspec": {
   "display_name": "Python 3",
   "language": "python",
   "name": "python3"
  },
  "language_info": {
   "codemirror_mode": {
    "name": "ipython",
    "version": 3
   },
   "file_extension": ".py",
   "mimetype": "text/x-python",
   "name": "python",
   "nbconvert_exporter": "python",
   "pygments_lexer": "ipython3",
   "version": "3.7.3"
  }
 },
 "nbformat": 4,
 "nbformat_minor": 2
}

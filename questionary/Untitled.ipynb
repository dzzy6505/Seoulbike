{
 "cells": [
  {
   "cell_type": "code",
   "execution_count": 68,
   "metadata": {},
   "outputs": [],
   "source": [
    "import csv\n",
    "with open('questionary_revised.csv', 'r',encoding ='utf-8-sig') as f:\n",
    "    reader = csv.DictReader(f)\n",
    "    selected = []\n",
    "    for row in reader:\n",
    "        selected.append(row['selected'])"
   ]
  },
  {
   "cell_type": "code",
   "execution_count": 72,
   "metadata": {},
   "outputs": [],
   "source": [
    "checked_set = []\n",
    "for alpha in splited:\n",
    "    GPS = 0\n",
    "    APP = 0\n",
    "    LOGIN=0\n",
    "    PURCHASE_METHOD = 0\n",
    "    PASSWORD = 0\n",
    "    PURCHASE_PROCESS=0\n",
    "    TICKET = 0\n",
    "    WEIGHT = 0\n",
    "    RETURNING=0\n",
    "    MAINTANECE = 0\n",
    "    LENT_METHOD=0\n",
    "    NONE = 0\n",
    "    for beta in alpha:\n",
    "        \n",
    "        if '지도(GPS)' in beta:\n",
    "            GPS = 1\n",
    "        elif '어플 끊김' in beta:\n",
    "            APP = 1\n",
    "        elif '로그인' in beta:\n",
    "            LOGIN =1\n",
    "        elif '결제 과정의 불편함' in beta:\n",
    "            PURCHASE_PROCESS = 1\n",
    "        elif '자전거 관리' in beta:\n",
    "            MAINTANECE = 1\n",
    "        elif '대여 비밀번호 관련' in beta:\n",
    "            PASSWORD = 1\n",
    "        elif '결제 수단의 부족' in beta:\n",
    "            PURCHASE_METHOD = 1\n",
    "        elif '이용권 사용의' in beta:\n",
    "            TICKET = 1\n",
    "        elif '자전거 무게' in beta:\n",
    "            WEIGHT = 1\n",
    "        elif '반납 과정' in beta:\n",
    "            RETURNING = 1\n",
    "            \n",
    "        elif '대여 방식의 불편함' in beta:\n",
    "            LENT_METHOD= 1\n",
    "        elif '불편사항 없음' in beta:\n",
    "            NONE = 1\n",
    "        \n",
    "        \n",
    "       \n",
    "        \n",
    "    beta_set = {'불편_지도':GPS,'불편_어플': APP, '불편_로그인':LOGIN, '불편_결제수단': PURCHASE_METHOD, '불편_대여 비밀번호':PASSWORD, \n",
    "               '불편_결제 과정': PURCHASE_PROCESS, '불편_이용권사용': TICKET, '불편_자전거무게': WEIGHT, '불편_반납과정': RETURNING, \n",
    "               '불편_관리상태': MAINTANECE, '불편_대여방식': LENT_METHOD, '불편_없음': NONE}\n",
    "    checked_set.append(beta_set)\n",
    "            "
   ]
  },
  {
   "cell_type": "code",
   "execution_count": 73,
   "metadata": {},
   "outputs": [
    {
     "name": "stdout",
     "output_type": "stream",
     "text": [
      "{'불편_지도': 0, '불편_어플': 0, '불편_로그인': 1, '불편_결제수단': 0, '불편_대여 비밀번호': 0, '불편_결제 과정': 0, '불편_이용권사용': 0, '불편_자전거무게': 0, '불편_반납과정': 0, '불편_관리상태': 0, '불편_대여방식': 1, '불편_없음': 0}\n"
     ]
    }
   ],
   "source": [
    "print(checked_set[-1])"
   ]
  },
  {
   "cell_type": "code",
   "execution_count": 74,
   "metadata": {},
   "outputs": [],
   "source": [
    "import pandas as pd\n",
    "def save(df, filename):\n",
    "    writer = pd.ExcelWriter(filename)\n",
    "    df.to_excel(writer, 'Sheet1')\n",
    "    writer.save()\n",
    "\n",
    "df = pd.DataFrame(checked_set)\n",
    "save(df, \"./selected_table.xlsx\")"
   ]
  },
  {
   "cell_type": "code",
   "execution_count": 75,
   "metadata": {},
   "outputs": [
    {
     "data": {
      "text/html": [
       "<div>\n",
       "<style scoped>\n",
       "    .dataframe tbody tr th:only-of-type {\n",
       "        vertical-align: middle;\n",
       "    }\n",
       "\n",
       "    .dataframe tbody tr th {\n",
       "        vertical-align: top;\n",
       "    }\n",
       "\n",
       "    .dataframe thead th {\n",
       "        text-align: right;\n",
       "    }\n",
       "</style>\n",
       "<table border=\"1\" class=\"dataframe\">\n",
       "  <thead>\n",
       "    <tr style=\"text-align: right;\">\n",
       "      <th></th>\n",
       "      <th>불편_결제 과정</th>\n",
       "      <th>불편_결제수단</th>\n",
       "      <th>불편_관리상태</th>\n",
       "      <th>불편_대여 비밀번호</th>\n",
       "      <th>불편_대여방식</th>\n",
       "      <th>불편_로그인</th>\n",
       "      <th>불편_반납과정</th>\n",
       "      <th>불편_어플</th>\n",
       "      <th>불편_없음</th>\n",
       "      <th>불편_이용권사용</th>\n",
       "      <th>불편_자전거무게</th>\n",
       "      <th>불편_지도</th>\n",
       "    </tr>\n",
       "  </thead>\n",
       "  <tbody>\n",
       "    <tr>\n",
       "      <th>0</th>\n",
       "      <td>0</td>\n",
       "      <td>0</td>\n",
       "      <td>0</td>\n",
       "      <td>0</td>\n",
       "      <td>0</td>\n",
       "      <td>1</td>\n",
       "      <td>0</td>\n",
       "      <td>1</td>\n",
       "      <td>0</td>\n",
       "      <td>0</td>\n",
       "      <td>0</td>\n",
       "      <td>1</td>\n",
       "    </tr>\n",
       "    <tr>\n",
       "      <th>1</th>\n",
       "      <td>0</td>\n",
       "      <td>0</td>\n",
       "      <td>0</td>\n",
       "      <td>0</td>\n",
       "      <td>0</td>\n",
       "      <td>1</td>\n",
       "      <td>0</td>\n",
       "      <td>1</td>\n",
       "      <td>0</td>\n",
       "      <td>0</td>\n",
       "      <td>0</td>\n",
       "      <td>1</td>\n",
       "    </tr>\n",
       "    <tr>\n",
       "      <th>2</th>\n",
       "      <td>1</td>\n",
       "      <td>0</td>\n",
       "      <td>1</td>\n",
       "      <td>0</td>\n",
       "      <td>0</td>\n",
       "      <td>0</td>\n",
       "      <td>0</td>\n",
       "      <td>0</td>\n",
       "      <td>0</td>\n",
       "      <td>0</td>\n",
       "      <td>0</td>\n",
       "      <td>0</td>\n",
       "    </tr>\n",
       "    <tr>\n",
       "      <th>3</th>\n",
       "      <td>1</td>\n",
       "      <td>0</td>\n",
       "      <td>0</td>\n",
       "      <td>1</td>\n",
       "      <td>0</td>\n",
       "      <td>0</td>\n",
       "      <td>0</td>\n",
       "      <td>0</td>\n",
       "      <td>0</td>\n",
       "      <td>0</td>\n",
       "      <td>1</td>\n",
       "      <td>0</td>\n",
       "    </tr>\n",
       "    <tr>\n",
       "      <th>4</th>\n",
       "      <td>0</td>\n",
       "      <td>0</td>\n",
       "      <td>1</td>\n",
       "      <td>0</td>\n",
       "      <td>0</td>\n",
       "      <td>0</td>\n",
       "      <td>0</td>\n",
       "      <td>0</td>\n",
       "      <td>1</td>\n",
       "      <td>1</td>\n",
       "      <td>0</td>\n",
       "      <td>0</td>\n",
       "    </tr>\n",
       "  </tbody>\n",
       "</table>\n",
       "</div>"
      ],
      "text/plain": [
       "   불편_결제 과정  불편_결제수단  불편_관리상태  불편_대여 비밀번호  불편_대여방식  불편_로그인  불편_반납과정  불편_어플  \\\n",
       "0         0        0        0           0        0       1        0      1   \n",
       "1         0        0        0           0        0       1        0      1   \n",
       "2         1        0        1           0        0       0        0      0   \n",
       "3         1        0        0           1        0       0        0      0   \n",
       "4         0        0        1           0        0       0        0      0   \n",
       "\n",
       "   불편_없음  불편_이용권사용  불편_자전거무게  불편_지도  \n",
       "0      0         0         0      1  \n",
       "1      0         0         0      1  \n",
       "2      0         0         0      0  \n",
       "3      0         0         1      0  \n",
       "4      1         1         0      0  "
      ]
     },
     "execution_count": 75,
     "metadata": {},
     "output_type": "execute_result"
    }
   ],
   "source": [
    "df.head()"
   ]
  },
  {
   "cell_type": "code",
   "execution_count": 76,
   "metadata": {},
   "outputs": [],
   "source": [
    "test = \"자전거 관리 상태\""
   ]
  },
  {
   "cell_type": "code",
   "execution_count": 49,
   "metadata": {},
   "outputs": [
    {
     "data": {
      "text/plain": [
       "'따릉이 배치 수 , 대여소 위치(대여 방식의 불편함)'"
      ]
     },
     "execution_count": 49,
     "metadata": {},
     "output_type": "execute_result"
    }
   ],
   "source": [
    "test.split(';')[0]"
   ]
  },
  {
   "cell_type": "code",
   "execution_count": 50,
   "metadata": {},
   "outputs": [
    {
     "ename": "SyntaxError",
     "evalue": "unexpected EOF while parsing (<ipython-input-50-172a8f634986>, line 1)",
     "output_type": "error",
     "traceback": [
      "\u001b[0;36m  File \u001b[0;32m\"<ipython-input-50-172a8f634986>\"\u001b[0;36m, line \u001b[0;32m1\u001b[0m\n\u001b[0;31m    test[\u001b[0m\n\u001b[0m         ^\u001b[0m\n\u001b[0;31mSyntaxError\u001b[0m\u001b[0;31m:\u001b[0m unexpected EOF while parsing\n"
     ]
    }
   ],
   "source": [
    "test["
   ]
  },
  {
   "cell_type": "code",
   "execution_count": null,
   "metadata": {},
   "outputs": [],
   "source": []
  }
 ],
 "metadata": {
  "kernelspec": {
   "display_name": "Python 3",
   "language": "python",
   "name": "python3"
  },
  "language_info": {
   "codemirror_mode": {
    "name": "ipython",
    "version": 3
   },
   "file_extension": ".py",
   "mimetype": "text/x-python",
   "name": "python",
   "nbconvert_exporter": "python",
   "pygments_lexer": "ipython3",
   "version": "3.7.3"
  }
 },
 "nbformat": 4,
 "nbformat_minor": 2
}

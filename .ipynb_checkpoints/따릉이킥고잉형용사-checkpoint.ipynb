{
 "cells": [
  {
   "cell_type": "code",
   "execution_count": 8,
   "metadata": {},
   "outputs": [],
   "source": [
    "from collections import Counter\n"
   ]
  },
  {
   "cell_type": "markdown",
   "metadata": {},
   "source": [
    "### 따릉이 형용사 추출"
   ]
  },
  {
   "cell_type": "code",
   "execution_count": 9,
   "metadata": {},
   "outputs": [],
   "source": [
    "import csv\n",
    "with open('Dareung_text.csv', 'r',encoding ='utf-8-sig') as f:\n",
    "    reader = csv.DictReader(f)\n",
    "    a = [] #a list could be the diverse pararmeter which you want to analyze.\n",
    "           #this algorithm, I'm going to use 'a' as Height\n",
    "\n",
    "    name= [] # player's name list\n",
    "    overall= [] #player's overall list\n",
    "    idn = []    #player's ID\n",
    "    position = [] #player's position\n",
    "    for row in reader:\n",
    "     \n",
    "        a.append(row['comment'])\n",
    "\n",
    "        \n",
    "\n"
   ]
  },
  {
   "cell_type": "code",
   "execution_count": 10,
   "metadata": {},
   "outputs": [
    {
     "data": {
      "text/plain": [
       "[' 많은 앱을 써봤지만 이런 엉망인 앱은 처음입니다 로그인을 하려면 휴대폰인증앱을 설치하라해서 했고 구글아이디넣으래서 넣었는데 로그인은 안되고 계속 휴대폰인증과 구글로그인이 반복됩니다 정말 시민을 위한 정책이 맞는지..서울시 실망스럽네요ㅠ',\n",
       " ' 앱좀 신경써서 만들지..... 자전거는 잘쓰고 있는데 앱이 너무 쓰기 불편하고 느리고 이상하고.. 카드결제는 앱카드나 isp지원하면 좋겠고... 결제진행이 너무 느려요... 그리고 카드번호 및 정보 입력하는 방식도 2000년도 초반에나 썼지..',\n",
       " ' 무슨 앱이 시스템 변경때문에 회원가입도 못하게 하나요? 결재나 이용권 끊을 때 안되게 하면 되지 답답합니다',\n",
       " ' 진짜 최악이다. 계속 로딩메세지만 뜨고 접속이 수십분동안 안된다. 고객센터은 계속 통화중. 정기권 추ㅏ소해야겠다 ㅡㅡ',\n",
       " ' 처음 어플리뷰 글을 남기게 하네요. 누가 버전 스마트폰인데 앱로딩속도가 느리거나 먹통으로 진행이 되질 않습니다. 사용하려다 실패하고 결국 버스로 왔습니다.']"
      ]
     },
     "execution_count": 10,
     "metadata": {},
     "output_type": "execute_result"
    }
   ],
   "source": [
    "a[0:5]"
   ]
  },
  {
   "cell_type": "code",
   "execution_count": 11,
   "metadata": {},
   "outputs": [],
   "source": [
    "from konlpy.tag import Twitter\n",
    "twitter = Twitter()"
   ]
  },
  {
   "cell_type": "code",
   "execution_count": 13,
   "metadata": {},
   "outputs": [],
   "source": [
    "sentences_tag = []\n",
    "for sentence in a:\n",
    "    morph = twitter.pos(sentence)\n",
    "    sentences_tag.append(morph)\n",
    "\n"
   ]
  },
  {
   "cell_type": "code",
   "execution_count": 16,
   "metadata": {},
   "outputs": [],
   "source": [
    "noun_adj_list = []\n",
    "for sentence1 in sentences_tag:\n",
    "    for word, tag in sentence1:\n",
    "        if tag in ['Adjective']:\n",
    "            noun_adj_list.append(word)"
   ]
  },
  {
   "cell_type": "code",
   "execution_count": 17,
   "metadata": {},
   "outputs": [
    {
     "name": "stdout",
     "output_type": "stream",
     "text": [
      "[('안되고', 97), ('아니', 75), ('입니다', 69), ('어떻게', 69), ('안됨', 43), ('좋은', 37), ('좋은데', 36), ('좋아요', 33), ('이런', 32), ('많고', 30)]\n"
     ]
    }
   ],
   "source": [
    "counts = Counter(noun_adj_list)\n",
    "print(counts.most_common(10))"
   ]
  },
  {
   "cell_type": "code",
   "execution_count": 21,
   "metadata": {},
   "outputs": [
    {
     "name": "stdout",
     "output_type": "stream",
     "text": [
      "[('안되고', 97), ('아니', 75), ('입니다', 69), ('어떻게', 69), ('안됨', 43), ('좋은', 37), ('좋은데', 36), ('좋아요', 33), ('이런', 32), ('많고', 30), ('안되네요', 28), ('같은', 27), ('안되서', 26), ('없는', 26), ('있는', 26), ('없고', 26), ('없네요', 26), ('없음', 25), ('느리고', 23), ('새로', 21)]\n"
     ]
    }
   ],
   "source": [
    "counts = Counter(noun_adj_list)\n",
    "print(counts.most_common(20))"
   ]
  },
  {
   "cell_type": "markdown",
   "metadata": {},
   "source": [
    "### 킥고잉 형용사 추출"
   ]
  },
  {
   "cell_type": "code",
   "execution_count": null,
   "metadata": {},
   "outputs": [],
   "source": [
    "import csv\n",
    "with open('kickgoing_finally.csv', 'r',encoding ='utf-8-sig') as f:\n",
    "    reader = csv.DictReader(f)\n",
    "    k = []\n",
    "    for row in reader:\n",
    "     \n",
    "        k.append(row['comment'])\n",
    "\n",
    "        \n",
    "\n",
    "\n"
   ]
  }
 ],
 "metadata": {
  "kernelspec": {
   "display_name": "Python 3",
   "language": "python",
   "name": "python3"
  },
  "language_info": {
   "codemirror_mode": {
    "name": "ipython",
    "version": 3
   },
   "file_extension": ".py",
   "mimetype": "text/x-python",
   "name": "python",
   "nbconvert_exporter": "python",
   "pygments_lexer": "ipython3",
   "version": "3.7.3"
  }
 },
 "nbformat": 4,
 "nbformat_minor": 2
}

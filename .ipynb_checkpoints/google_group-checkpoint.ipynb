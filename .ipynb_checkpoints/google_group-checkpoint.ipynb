{
 "cells": [
  {
   "cell_type": "code",
   "execution_count": 90,
   "metadata": {},
   "outputs": [],
   "source": [
    "from collections import Counter\n",
    "from konlpy.tag import Twitter\n",
    "twitter = Twitter()\n",
    "import csv\n",
    "with open('google_seoulbike_review.csv', 'r',encoding ='utf-8-sig') as f:\n",
    "    reader = csv.DictReader(f)\n",
    "    reviews = [] \n",
    "    for row in reader:\n",
    "     \n",
    "        reviews.append(row['content'])"
   ]
  },
  {
   "cell_type": "code",
   "execution_count": 91,
   "metadata": {},
   "outputs": [
    {
     "data": {
      "text/plain": [
       "1847"
      ]
     },
     "execution_count": 91,
     "metadata": {},
     "output_type": "execute_result"
    }
   ],
   "source": [
    "len(reviews)"
   ]
  },
  {
   "cell_type": "markdown",
   "metadata": {},
   "source": [
    "#### Preprocessing"
   ]
  },
  {
   "cell_type": "code",
   "execution_count": 93,
   "metadata": {},
   "outputs": [],
   "source": [
    "from ckonlpy.tag import Postprocessor #전처리 라이브러리\n",
    "from ckonlpy.tag import Twitter\n",
    "import warnings\n",
    "warnings.simplefilter(\"ignore\")\n",
    "\n",
    "ctwitter = Twitter()\n",
    "ctwitter.add_dictionary('해주시면','Verb')\n",
    "#ctwitter.add_dictionary(['타고','요청드립니다','부탁드립니다', '요청 드립니다','부탁 드립니다','해','주시면','해주시면'],'Verb')\n",
    "ctwitter.add_dictionary(['따릉이','자출',\n",
    "                       '대여소','연결거치','거치대','고객센터',\n",
    "                        '다시','퇴근시간','대여시간',\n",
    "                        '출근시간','한시간','두시간','임시폐쇄',\n",
    "                         '자동로그인',\n",
    "                        ], 'Noun')\n",
    "#조사\n",
    "ctwitter.add_dictionary('까지', 'Josa')\n",
    "#형용사\n",
    "ctwitter.add_dictionary('레알', 'Adjective')\n",
    "#부사\n",
    "ctwitter.add_dictionary('레알', 'Adjective')\n",
    "ctwitter.add_dictionary(['왜', '좀','진짜','최악'], 'Adverb', force=True)\n",
    "\n",
    "ctwitter.add_dictionary(['타고','요청드립니다','부탁드립니다',\n",
    "                         '요청 드립니다','부탁 드립니다',],'Verb')\n",
    "\n",
    "#무의미한 형태소 및 단어 제거\n",
    "stopwords = {'수가','까지','드립','번','수','것', '앞','해주',\n",
    "             '곳','떄','좀','어요','요','이','감사','이','그','고','제','쪽','더','안','후','시','거','전',\n",
    "'려고','적','저','데','등','역','중','해주시','내','면서','어서','때','뭐','못','마다','더니','해도','해도','다가','어가','개','하라','하나','걸'}\n",
    "postprocessor = Postprocessor(ctwitter, stopwords = stopwords)\n"
   ]
  },
  {
   "cell_type": "code",
   "execution_count": 98,
   "metadata": {},
   "outputs": [
    {
     "data": {
      "text/plain": [
       "[('비밀번호', 'Noun')]"
      ]
     },
     "execution_count": 98,
     "metadata": {},
     "output_type": "execute_result"
    }
   ],
   "source": [
    "ctwitter.pos('매우 가장 왜 이쁘다ㅋㅋ')\n",
    "ctwitter.pos('비밀번호')"
   ]
  },
  {
   "cell_type": "markdown",
   "metadata": {},
   "source": [
    "#### 형태소 분석을 진행함"
   ]
  },
  {
   "cell_type": "code",
   "execution_count": 94,
   "metadata": {},
   "outputs": [],
   "source": [
    "sentences_tag = []\n",
    "for sentence in reviews:\n",
    "    morph = postprocessor.pos(sentence)\n",
    "    sentences_tag.append(morph)"
   ]
  },
  {
   "cell_type": "markdown",
   "metadata": {},
   "source": [
    "##### 형용사 추출"
   ]
  },
  {
   "cell_type": "code",
   "execution_count": 20,
   "metadata": {},
   "outputs": [
    {
     "data": {
      "text/plain": [
       "3769"
      ]
     },
     "execution_count": 20,
     "metadata": {},
     "output_type": "execute_result"
    }
   ],
   "source": [
    "adj_list = []\n",
    "for sentence in sentences_tag:\n",
    "    for word, tag in sentence:\n",
    "        if tag in ['Adjective']:\n",
    "            adj_list.append(word)\n",
    "len(adj_list)"
   ]
  },
  {
   "cell_type": "code",
   "execution_count": 96,
   "metadata": {},
   "outputs": [
    {
     "name": "stdout",
     "output_type": "stream",
     "text": [
      "[('안되고', 117), ('입니다', 94), ('아니', 88), ('어떻게', 85), ('안됨', 61), ('좋아요', 48), ('좋은', 46), ('이런', 45), ('좋은데', 44), ('있는', 42), ('없고', 36), ('안되네요', 36), ('같은', 35), ('없는', 32), ('안되서', 32), ('없네요', 32), ('많고', 32), ('같습니다', 31), ('없음', 29), ('느리고', 29), ('같아요', 25), ('불편합니다', 24), ('새로', 23), ('있습니다', 23), ('불편하고', 22), ('아니고', 22), ('있는데', 22), ('있어요', 20), ('느려', 20), ('안되요', 20)]\n"
     ]
    }
   ],
   "source": [
    "counts_adj = Counter(adj_list)\n",
    "print(counts_adj.most_common(30))"
   ]
  },
  {
   "cell_type": "markdown",
   "metadata": {},
   "source": [
    "#### 명사 추출후 상위 10개 항목 정렬"
   ]
  },
  {
   "cell_type": "code",
   "execution_count": 95,
   "metadata": {},
   "outputs": [
    {
     "name": "stdout",
     "output_type": "stream",
     "text": [
      "[('앱', 749), ('어플', 329), ('결제', 301), ('자전거', 293), ('따릉이', 258), ('지도', 246), ('로그인', 245), ('대여', 221), ('왜', 213), ('업데이트', 201), ('오류', 198), ('진짜', 191), ('사용', 190), ('이용', 177), ('최악', 163), ('대여소', 159), ('시간', 154), ('불편', 153), ('다시', 131), ('로딩', 131), ('회원', 123), ('돈', 122), ('쓰레기', 113), ('제대로', 109), ('가입', 109), ('계속', 105), ('정말', 96), ('반납', 92), ('세금', 92), ('검색', 90), ('개선', 89), ('그냥', 80), ('카드', 75), ('인증', 71), ('사람', 71), ('기능', 70), ('아이디', 70), ('제발', 70), ('시스템', 69), ('위치', 68), ('화면', 68), ('번호', 66), ('개발자', 64), ('실행', 60), ('비밀번호', 58), ('생각', 57), ('서울시', 57), ('처음', 56), ('자체', 55), ('짜증', 54), ('타고', 54), ('개발', 53), ('함', 51), ('이용권', 51), ('말', 51), ('공무원', 50), ('한번', 50), ('버전', 50), ('문제', 49), ('게', 49), ('무슨', 49), ('자동로그인', 48), ('전화', 48), ('찾기', 48), ('하니', 47), ('임', 46), ('비번', 46), ('지금', 46), ('서비스', 45), ('관리', 45)]\n"
     ]
    }
   ],
   "source": [
    "noun_list = []\n",
    "for sentence in sentences_tag:\n",
    "    for word, tag in sentence:\n",
    "        if tag in ['Noun']:\n",
    "            noun_list.append(word)\n",
    "n_counts = Counter(noun_list)\n",
    "\n",
    "print(n_counts.most_common(70))"
   ]
  },
  {
   "cell_type": "code",
   "execution_count": 83,
   "metadata": {},
   "outputs": [],
   "source": [
    "import pandas as pd\n",
    "\n",
    "df = pd.DataFrame.from_dict(n_counts, orient='index').reset_index()\n",
    "df = df.rename(columns={'index':'noun', 0:'count'})\n",
    "df=df.sort_values(by=['count'], axis=0, ascending=False)\n"
   ]
  },
  {
   "cell_type": "code",
   "execution_count": 84,
   "metadata": {},
   "outputs": [],
   "source": [
    "#엑셀로 저장\n",
    "df.to_excel(\"google_noun_counts.xlsx\")"
   ]
  }
 ],
 "metadata": {
  "kernelspec": {
   "display_name": "Python 3",
   "language": "python",
   "name": "python3"
  },
  "language_info": {
   "codemirror_mode": {
    "name": "ipython",
    "version": 3
   },
   "file_extension": ".py",
   "mimetype": "text/x-python",
   "name": "python",
   "nbconvert_exporter": "python",
   "pygments_lexer": "ipython3",
   "version": "3.7.3"
  }
 },
 "nbformat": 4,
 "nbformat_minor": 2
}

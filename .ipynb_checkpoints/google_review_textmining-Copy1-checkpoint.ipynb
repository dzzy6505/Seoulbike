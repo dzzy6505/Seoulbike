{
 "cells": [
  {
   "cell_type": "code",
   "execution_count": 1,
   "metadata": {},
   "outputs": [
    {
     "name": "stderr",
     "output_type": "stream",
     "text": [
      "/anaconda3/lib/python3.7/site-packages/konlpy/tag/_okt.py:16: UserWarning: \"Twitter\" has changed to \"Okt\" since KoNLPy v0.4.5.\n",
      "  warn('\"Twitter\" has changed to \"Okt\" since KoNLPy v0.4.5.')\n",
      "/anaconda3/lib/python3.7/site-packages/jpype/_core.py:210: UserWarning: \n",
      "-------------------------------------------------------------------------------\n",
      "Deprecated: convertStrings was not specified when starting the JVM. The default\n",
      "behavior in JPype will be False starting in JPype 0.8. The recommended setting\n",
      "for new code is convertStrings=False.  The legacy value of True was assumed for\n",
      "this session. If you are a user of an application that reported this warning,\n",
      "please file a ticket with the developer.\n",
      "-------------------------------------------------------------------------------\n",
      "\n",
      "  \"\"\")\n"
     ]
    }
   ],
   "source": [
    "from collections import Counter\n",
    "from konlpy.tag import Twitter\n",
    "import pandas as pd\n",
    "twitter = Twitter()\n",
    "\n",
    "import csv\n",
    "with open('sbike_google_sept.csv', 'r',encoding ='utf-8-sig') as f:\n",
    "    reader = csv.DictReader(f)\n",
    "    reviews = [] \n",
    "    for row in reader:\n",
    "     \n",
    "        reviews.append(row['review_text'])"
   ]
  },
  {
   "cell_type": "code",
   "execution_count": 11,
   "metadata": {},
   "outputs": [
    {
     "data": {
      "text/plain": [
       "1938"
      ]
     },
     "execution_count": 11,
     "metadata": {},
     "output_type": "execute_result"
    }
   ],
   "source": [
    "len(reviews)"
   ]
  },
  {
   "cell_type": "markdown",
   "metadata": {},
   "source": [
    "#### Preprocessing"
   ]
  },
  {
   "cell_type": "code",
   "execution_count": 233,
   "metadata": {},
   "outputs": [],
   "source": [
    "from ckonlpy.tag import Postprocessor #전처리 라이브러리\n",
    "from ckonlpy.tag import Twitter\n",
    "import warnings\n",
    "warnings.simplefilter(\"ignore\")\n",
    "\n",
    "ctwitter = Twitter()\n",
    "ctwitter.add_dictionary('해주시면','Verb')\n",
    "#ctwitter.add_dictionary(['타고','요청드립니다','부탁드립니다', '요청 드립니다','부탁 드립니다','해','주시면','해주시면'],'Verb')\n",
    "ctwitter.add_dictionary(['따릉이','자출',\n",
    "                       '대여소','연결거치','거치대','고객센터',\n",
    "                        '다시','퇴근시간','대여시간',\n",
    "                        '출근시간','한시간','두시간','임시폐쇄',\n",
    "                         '자동로그인','UX', '1일권', '일일권','가성비',\n",
    "                         '상담원','재로그인', '인증번호', '가입','렉', '랙','제로페이','결제','큐알코드','QR','뒤로가기',\n",
    "                         '대여번호''결제','결재','여러번','불편','개불편함','내세금','전반적', '지도화면',\n",
    "                        ], 'Noun')\n",
    "#조사\n",
    "ctwitter.add_dictionary(['까지','하냐'], 'Josa')\n",
    "#형용사\n",
    "ctwitter.add_dictionary(['레알','허접한','오지게' ,'어려워','안되', '열받','안됨', '안와' ,'참어렵네'], 'Adjective')\n",
    "#부사\n",
    "\n",
    "ctwitter.add_dictionary(['왜', '좀','진짜','최악' , '참'], 'Adverb', force=True)\n",
    "\n",
    "ctwitter.add_dictionary(['타고','요청드립니다','부탁드립니다',\n",
    "                         '요청 드립니다','부탁 드립니다','하기'],'Verb')\n",
    "\n",
    "#무의미한 형태소 및 단어 제거\n",
    "stopwords = {'수가','까지','드립','번','수','것', '앞','해주','왜',\n",
    "             '곳','떄','좀','어요','요','이','감사','이','그','고','제','쪽','더','후','시','거',\n",
    "'려고','적','저','데','등','역','중','해주시','내','면서','어서','때','뭐','못','마다','더니','해도','해도','다가','어가','개','하라','하나','걸'}\n",
    "\n",
    "\n",
    "#단어 대치\n",
    "replace = {'어플리케이션': '어플',\n",
    "           '앱': '어플',\n",
    "           '폐쇠':'페쇄',\n",
    "           '젛은':'좋은',\n",
    "           '연계':'연동',\n",
    "           '맵':'지도',\n",
    "           '인터페이스':'UI',\n",
    "           '유아이':'UI',\n",
    "           'ui': 'UI',\n",
    "           'T머니' : '티머니',\n",
    "           '렉':'오류',\n",
    "           '랙':'오류',\n",
    "           '가입': '회원가입',\n",
    "          '결재':'결제',\n",
    "           '버젼':'버전',\n",
    "           '고객 센터': '고객센터',\n",
    "           '에러': '오류',\n",
    "           '버그': '오류',\n",
    "           '업뎃':'업데이트' ,'업댓':'업데이트','업디이트':'업데이트','리뉴얼':'업데이트','개편':'업데이트','업그레이드':'업데이트',\n",
    "           '업데이틀':'업데이트',\n",
    "           '업글' :'업데이트',\n",
    "           '비번':'비밀번호',\n",
    "           '머지':'뭐지',\n",
    "           '자동 로그인':'자동로그인',\n",
    "           '딜레이':'지연',\n",
    "           '정거장': '대여소','정류장': '대여소','대여수': '대여소',\n",
    "           '큐알':'QR','qr':'QR','큐알코드':'QR',\n",
    "           '알코':'QR',\n",
    "           '리붓':'재부팅',\n",
    "           '튜토리얼':'이용설명',\n",
    "           '이용안내':'이용설명',\n",
    "           '안되요':'안돼요',\n",
    "           '카톡': '카카오톡',\n",
    "           '먹통' :'오류',\n",
    "           '제하': '결제',\n",
    "            '카카오': '카카오톡',\n",
    "            '카카오계정': '카카오톡',\n",
    "           ('안되고', 'Adjective'): '안되',\n",
    "           '않':'안되',\n",
    "           '마니':'많이',\n",
    "           '허다': '많다',\n",
    "           '안와': '안되',\n",
    "           '안': '안되',\n",
    "           '폰':'휴대폰',\n",
    "           '지도화면':'지도',\n",
    "           '안됨':'안되',\n",
    "           '팅김':'오류',\n",
    "           '내세금':'세금',\n",
    "           '개불편함':'불편',\n",
    "           '연결거치': '연결'}\n",
    "\n",
    "postprocessor = Postprocessor(ctwitter, stopwords = stopwords,replace = replace)"
   ]
  },
  {
   "cell_type": "code",
   "execution_count": 234,
   "metadata": {},
   "outputs": [
    {
     "data": {
      "text/plain": [
       "[('서버', 'Noun'), ('오류', 'Noun'), ('냐', 'Josa')]"
      ]
     },
     "execution_count": 234,
     "metadata": {},
     "output_type": "execute_result"
    }
   ],
   "source": [
    "ctwitter.pos('티머니')\n",
    "postprocessor.pos('서버랙뭐냐고')\n"
   ]
  },
  {
   "cell_type": "markdown",
   "metadata": {},
   "source": [
    "#### 형태소 분석을 진행함"
   ]
  },
  {
   "cell_type": "code",
   "execution_count": 235,
   "metadata": {},
   "outputs": [],
   "source": [
    "sentences_tag = []\n",
    "for sentence in reviews:\n",
    "    morph = postprocessor.pos(sentence)\n",
    "    \n",
    "\n",
    "    sentences_tag.append(morph)\n",
    "    \n",
    "\n"
   ]
  },
  {
   "cell_type": "code",
   "execution_count": 237,
   "metadata": {},
   "outputs": [
    {
     "data": {
      "text/plain": [
       "'어플버전 체크를 왜자꾸하며, 에러가계속뜨네요 이용하기참어렵네//'"
      ]
     },
     "execution_count": 237,
     "metadata": {},
     "output_type": "execute_result"
    }
   ],
   "source": [
    "pd.DataFrame(sentences_tag[542])\n",
    "reviews[542]"
   ]
  },
  {
   "cell_type": "markdown",
   "metadata": {},
   "source": [
    "##### 형용사 추출"
   ]
  },
  {
   "cell_type": "code",
   "execution_count": 16,
   "metadata": {},
   "outputs": [
    {
     "data": {
      "text/plain": [
       "2993"
      ]
     },
     "execution_count": 16,
     "metadata": {},
     "output_type": "execute_result"
    }
   ],
   "source": [
    "adj_list = []\n",
    "for sentence in sentences_tag:\n",
    "    for word, tag in sentence:\n",
    "        if tag in ['Adjective']:\n",
    "            \n",
    "            adj_list.append(word)\n",
    "            \n",
    "len(adj_list)"
   ]
  },
  {
   "cell_type": "code",
   "execution_count": 27,
   "metadata": {},
   "outputs": [
    {
     "name": "stdout",
     "output_type": "stream",
     "text": [
      "[('할', 191), ('잘', 154), ('들', 119), ('건지', 115), ('하는', 115), ('합니다', 107), ('했는데', 96), ('하면', 78), ('하게', 70), ('되고', 68), ('하기', 68), ('만든', 65), ('뜨고', 62), ('하는데', 59), ('가', 52), ('넘', 50), ('않고', 48), ('하네요', 48), ('참', 48), ('까', 46), ('쓰', 44), ('만들', 44), ('쓸', 42), ('했', 42), ('된', 40), ('서', 39), ('한', 39), ('들이', 38), ('하지', 37), ('되', 35), ('되는', 33), ('해야', 32), ('되는데', 32), ('하세요', 32), ('되지', 31), ('됨', 28), ('대', 27), ('되서', 26), ('떠서', 26), ('만들어', 25), ('지', 25), ('써', 23), ('누르면', 22), ('않아', 22), ('빌릴', 22), ('않음', 21), ('고쳐주세요', 21), ('나서', 21), ('돼요', 20), ('했습니다', 20), ('는', 19), ('됩니다', 19), ('들은', 19), ('되면', 18), ('오고', 18), ('돼서', 18), ('뜨', 18), ('받고', 18), ('하네', 17), ('않네요', 17), ('나오고', 17), ('되네요', 17), ('쳐', 17), ('쓰고', 17), ('째', 16), ('드려요', 16), ('빌리는데', 16), ('하다', 16), ('걸리고', 16), ('만드는', 16), ('찾', 16), ('깔', 15), ('내고', 15), ('하려', 15), ('할수', 15), ('하는거', 15), ('눌러도', 14), ('걸림', 14), ('날리고', 14), ('할거면', 14), ('쓰는', 14), ('와', 14), ('먹고', 14), ('빌', 14), ('찾는', 14), ('않아요', 13), ('긴', 13), ('주고', 13), ('봅니다', 13), ('놓고', 12), ('겁니다', 12), ('마세요', 12), ('찾을', 12), ('모르겠', 12), ('만들고', 12), ('되어', 12), ('뜨네요', 12), ('들어', 11), ('만들었냐', 11), ('싶', 11)]\n"
     ]
    }
   ],
   "source": [
    "verb_list = []\n",
    "for sentence in sentences_tag:\n",
    "    for word, tag in sentence:\n",
    "        if tag in ['Verb']:\n",
    "            \n",
    "            verb_list.append(word)\n",
    "            \n",
    "len(adj_list)\n",
    "counts_adj = Counter(verb_list)\n",
    "print(counts_adj.most_common(100))"
   ]
  },
  {
   "cell_type": "code",
   "execution_count": 17,
   "metadata": {},
   "outputs": [
    {
     "name": "stdout",
     "output_type": "stream",
     "text": [
      "[('안되고', 116), ('어떻게', 87), ('입니다', 86), ('있', 77), ('안됨', 71), ('좋아요', 57), ('이런', 53), ('있는', 50), ('좋은데', 48), ('같은', 43), ('좋은', 43), ('없', 43), ('안되서', 39), ('없는', 37), ('없고', 37), ('같아요', 35), ('안되네요', 35), ('없음', 34), ('없네요', 34), ('많고', 34), ('같습니다', 31), ('새로', 29), ('있습니다', 29), ('아닌', 27), ('느리고', 27), ('있는데', 26), ('느려', 25), ('많은', 22), ('안되요', 22), ('안되는', 22), ('좋', 21), ('없다', 20), ('있는지', 20), ('좋겠습니다', 19), ('안됩니다', 17), ('없다고', 16), ('좋겠', 15), ('있고', 14), ('아깝다', 14), ('같네요', 14), ('있게', 14), ('어떤', 14), ('있음', 13), ('굉장히', 13), ('있으면', 13), ('느려요', 13), ('이럴거면', 13), ('이런거', 12), ('많음', 12), ('아까', 12), ('안된다', 12), ('있다', 12), ('좋겠네요', 12), ('없습니다', 11), ('많', 11), ('없네', 11), ('느려서', 11), ('많아요', 10), ('같음', 10), ('없어', 10), ('안되는데', 10), ('많습니다', 10), ('같다', 9), ('좋습니다', 9), ('있다고', 9), ('안되나요', 9), ('없는데', 9), ('안되', 9), ('좋으나', 9), ('같', 9), ('많아서', 9), ('같은데', 9), ('없게', 9), ('있는거', 8), ('없으면', 8), ('어렵고', 8), ('빠른', 8), ('안되면', 8), ('편하게', 8), ('있네요', 8), ('느림', 8), ('답답하네요', 8), ('그런', 7), ('좋네요', 7), ('안되네', 7), ('안되는거', 7), ('아닌데', 7), ('많은데', 7), ('아까워요', 7), ('느린', 7), ('안되죠', 7), ('안된다고', 7), ('어려워', 6), ('좋겠다', 6), ('좋을거', 6), ('먼', 6), ('같은거', 6), ('안되니', 6), ('아닙니다', 6), ('빠르게', 6)]\n"
     ]
    }
   ],
   "source": [
    "counts_adj = Counter(adj_list)\n",
    "print(counts_adj.most_common(100))"
   ]
  },
  {
   "cell_type": "code",
   "execution_count": 18,
   "metadata": {},
   "outputs": [],
   "source": [
    "import pandas as pd\n",
    "df = pd.DataFrame(counts_adj.most_common(100))\n",
    "df.to_excel('Yoon/s_bike_google_adj.xlsx')"
   ]
  },
  {
   "cell_type": "markdown",
   "metadata": {},
   "source": [
    "#### 명사 추출후 상위 10개 항목 정렬"
   ]
  },
  {
   "cell_type": "code",
   "execution_count": 19,
   "metadata": {},
   "outputs": [
    {
     "name": "stdout",
     "output_type": "stream",
     "text": [
      "[('앱', 785), ('어플', 338), ('결제', 329), ('로그인', 317), ('자전거', 316), ('따릉이', 275), ('지도', 245), ('대여', 234), ('좀', 227), ('왜', 221), ('오류', 216), ('사용', 208), ('업데이트', 200), ('진짜', 192), ('이용', 185), ('요', 179), ('불편', 169), ('안', 168), ('최악', 165), ('대여소', 160), ('시간', 158), ('어요', 156), ('거', 154), ('때', 152), ('다시', 148), ('로딩', 129), ('뭐', 126), ('회원', 125), ('돈', 121), ('이', 119)]\n"
     ]
    }
   ],
   "source": [
    "noun_list = []\n",
    "for sentence in sentences_tag:\n",
    "    for word, tag in sentence:\n",
    "        if tag in ['Noun']:\n",
    "            noun_list.append(word)\n",
    "n_counts = Counter(noun_list)\n",
    "\n",
    "print(n_counts.most_common(30))"
   ]
  },
  {
   "cell_type": "code",
   "execution_count": 22,
   "metadata": {},
   "outputs": [],
   "source": [
    "import pandas as pd\n",
    "\n",
    "df = pd.DataFrame.from_dict(n_counts, orient='index').reset_index()\n",
    "df = df.rename(columns={'index':'noun', 0:'count'})\n",
    "df=df.sort_values(by=['count'], axis=0, ascending=False)\n"
   ]
  },
  {
   "cell_type": "code",
   "execution_count": 23,
   "metadata": {},
   "outputs": [],
   "source": [
    "#엑셀로 저장\n",
    "df.to_excel(\"Yoon/sbike_google_noun.xlsx\")"
   ]
  },
  {
   "cell_type": "code",
   "execution_count": 18,
   "metadata": {},
   "outputs": [],
   "source": [
    "import pandas as pd\n",
    "df2 = pd.DataFrame.from_dict(counts_adj, orient='index').reset_index()\n",
    "df2 = df2.rename(columns={'index':'noun', 0:'count'})\n",
    "df2 = df2.sort_values(by=['count'], axis=0, ascending=False)\n",
    "df2.head()\n",
    "df2.to_excel('./google_adj_count.xlsx')"
   ]
  }
 ],
 "metadata": {
  "kernelspec": {
   "display_name": "Python 3",
   "language": "python",
   "name": "python3"
  },
  "language_info": {
   "codemirror_mode": {
    "name": "ipython",
    "version": 3
   },
   "file_extension": ".py",
   "mimetype": "text/x-python",
   "name": "python",
   "nbconvert_exporter": "python",
   "pygments_lexer": "ipython3",
   "version": "3.7.3"
  }
 },
 "nbformat": 4,
 "nbformat_minor": 2
}

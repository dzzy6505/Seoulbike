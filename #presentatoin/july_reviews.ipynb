{
 "cells": [
  {
   "cell_type": "markdown",
   "metadata": {},
   "source": [
    "### 구글리뷰, 시민수렴게시판 2018년 6월 분석"
   ]
  },
  {
   "cell_type": "code",
   "execution_count": 8,
   "metadata": {},
   "outputs": [],
   "source": [
    "import csv\n",
    "from collections import Counter\n",
    "\n",
    "with open('google_review_july.csv', 'r',encoding ='utf-8-sig') as f:\n",
    "    reader = csv.DictReader(f)\n",
    "    text_list = []\n",
    "    for row in reader:\n",
    "     \n",
    "        text_list.append(row['content'])\n",
    "\n"
   ]
  },
  {
   "cell_type": "code",
   "execution_count": 12,
   "metadata": {},
   "outputs": [],
   "source": [
    "from ckonlpy.tag import Postprocessor #전처리 라이브러리\n",
    "from ckonlpy.tag import Twitter\n",
    "import warnings\n",
    "warnings.simplefilter(\"ignore\")\n",
    "ctwitter = Twitter()\n",
    "\n",
    "\n",
    "ctwitter.add_dictionary('해주시면','Verb')\n",
    "#ctwitter.add_dictionary(['타고','요청드립니다','부탁드립니다', '요청 드립니다','부탁 드립니다','해','주시면','해주시면'],'Verb')\n",
    "ctwitter.add_dictionary(['따릉이','자출',\n",
    "                        '자전거그램','럽스타그램',\n",
    "                        '인스타그램','daily','데일리',\n",
    "                        '대여소','연결거치','거치대','고객센터',\n",
    "                        '종합시장','다시','퇴근시간','대여시간',\n",
    "                        '출근시간','한시간','두시간','임시폐쇄',\n",
    "                         '서울시청',\n",
    "                        ], 'Noun')\n",
    "ctwitter.add_dictionary('까지', 'Josa')\n",
    "ctwitter.add_dictionary('레알', 'Adjective')\n",
    "#역명추가\n",
    "\n",
    "ctwitter.add_dictionary(['타고','요청드립니다','부탁드립니다',\n",
    "                         '요청 드립니다','부탁 드립니다',],'Verb')\n",
    "\n",
    "#무의미한 형태소 및 단어 제거\n",
    "stopwords = {'까지','드립','번','수','것', '앞','해주','곳','떄','좀','어요','요','이','감사','이','그','고','제','쪽','더','안','후','시','거',\n",
    "'려고','적','저','데','등','역','중','해주시','내','면서','어서','안녕','때','어서','이나','도록','걸','건','기','부터','알','건가'}\n",
    "postprocessor = Postprocessor(ctwitter, stopwords = stopwords)\n"
   ]
  },
  {
   "cell_type": "code",
   "execution_count": 25,
   "metadata": {},
   "outputs": [],
   "source": [
    "#형태소 분석\n",
    "def morph_parser(text_list):\n",
    "    sentences_tag = []\n",
    "    for sentence in text_list:\n",
    "        #post_data = postprocessor.pos(sentence)\n",
    "\n",
    "        morph = postprocessor.pos(sentence)\n",
    "        sentences_tag.append(morph)\n",
    "    return sentences_tag\n",
    "\n"
   ]
  },
  {
   "cell_type": "code",
   "execution_count": 22,
   "metadata": {},
   "outputs": [],
   "source": [
    "#명사 추출\n",
    "def get_noun_list(sentence_tag,upper):\n",
    "    noun_list = []\n",
    "    for sentence11 in sentences_tag:\n",
    "        for word, tag in sentence11:\n",
    "            if tag in ['Noun']:\n",
    "                noun_list.append(word)\n",
    "    counts = Counter(noun_list) # Counter Library 사용, 단어 빈도수 추출\n",
    "    return counts.most_common(upper)\n"
   ]
  },
  {
   "cell_type": "code",
   "execution_count": 26,
   "metadata": {},
   "outputs": [
    {
     "name": "stdout",
     "output_type": "stream",
     "text": [
      "[('앱', 163), ('업데이트', 128), ('지도', 105), ('왜', 67), ('자전거', 63), ('오류', 57), ('대여', 54), ('어플', 50), ('진짜', 48), ('따릉이', 44), ('결제', 43), ('대여소', 41), ('검색', 39), ('최악', 38), ('시간', 37), ('사용', 37), ('뭐', 37), ('제대로', 34), ('다시', 33), ('이용', 31)]\n"
     ]
    }
   ],
   "source": [
    "morph_list = morph_parser(text_list)\n",
    "print(get_noun_list(morph_list,20))"
   ]
  },
  {
   "cell_type": "markdown",
   "metadata": {},
   "source": [
    "## 시민수렴게시판"
   ]
  },
  {
   "cell_type": "code",
   "execution_count": 19,
   "metadata": {},
   "outputs": [],
   "source": [
    "with open('google_review_july.csv', 'r',encoding ='utf-8-sig') as f:\n",
    "    reader = csv.DictReader(f)\n",
    "    complain_list = []\n",
    "    for row in reader:\n",
    "     \n",
    "        complain_list.append(row['complain'])"
   ]
  },
  {
   "cell_type": "code",
   "execution_count": 27,
   "metadata": {},
   "outputs": [],
   "source": [
    "complaim_morph = morph_parser(complain_list)\n"
   ]
  },
  {
   "cell_type": "code",
   "execution_count": 28,
   "metadata": {},
   "outputs": [
    {
     "name": "stdout",
     "output_type": "stream",
     "text": [
      "[('앱', 163), ('업데이트', 128), ('지도', 105), ('왜', 67), ('자전거', 63), ('오류', 57), ('대여', 54), ('어플', 50), ('진짜', 48), ('따릉이', 44), ('결제', 43), ('대여소', 41), ('검색', 39), ('최악', 38), ('시간', 37), ('사용', 37), ('뭐', 37), ('제대로', 34), ('다시', 33), ('이용', 31)]\n"
     ]
    }
   ],
   "source": [
    "print(get_noun_list(complaim_morph,20))"
   ]
  },
  {
   "cell_type": "code",
   "execution_count": null,
   "metadata": {},
   "outputs": [],
   "source": []
  }
 ],
 "metadata": {
  "kernelspec": {
   "display_name": "Python 3",
   "language": "python",
   "name": "python3"
  },
  "language_info": {
   "codemirror_mode": {
    "name": "ipython",
    "version": 3
   },
   "file_extension": ".py",
   "mimetype": "text/x-python",
   "name": "python",
   "nbconvert_exporter": "python",
   "pygments_lexer": "ipython3",
   "version": "3.7.3"
  }
 },
 "nbformat": 4,
 "nbformat_minor": 2
}
